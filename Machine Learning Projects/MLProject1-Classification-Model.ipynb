{
 "cells": [
  {
   "cell_type": "markdown",
   "metadata": {},
   "source": [
    "#### Predicting players rating\n",
    "\n",
    "In this project you are going to predict the overall rating of soccer player based on their attributes such as 'crossing', 'finishing etc.The dataset you are going to use is from European Soccer Database(https://www.kaggle.com/hugomathien/soccer)has more than 25,000 matches and more than 10,000 players for European professional soccer seasons from 2008 to 2016.\n",
    "\n",
    "Download the data in the same folder and run the following commmand to get it in the environment\n",
    "\n",
    "##### About the Dataset\n",
    "\n",
    "###### The ultimate Soccer database for data analysis and machine learning\n",
    "\n",
    "The dataset comes in the form of an SQL database and contains statistics of about 25,000 football matches, from the top football league of 11 European Countries. It covers seasons from 2008 to 2016 and contains match statistics (i.e: scores, corners, fouls etc...) as well as the team formations, with player names and a pair of coordinates to indicate their position on the pitch.\n",
    "- +25,000 matches\n",
    "- +10,000 players\n",
    "- 11 European Countries with their lead championship\n",
    "- Seasons 2008 to 2016\n",
    "- Players and Teams' attributes* sourced from EA Sports' FIFA video game series, including the weekly updates\n",
    "- Team line up with squad formation (X, Y coordinates)\n",
    "- Betting odds from up to 10 providers\n",
    "- Detailed match events (goal types, possession, corner, cross, fouls, cards etc...) for +10,000 matches\n",
    "\n",
    "The dataset also has a set of about 35 statistics for each player, derived from EA Sports' FIFA video games. It is not just the stats that come with a new version of the game but also the weekly updates. So for instance if a player has performed poorly over a period of time and his stats get impacted in FIFA, you would normally see the same in the dataset.\n",
    "\n",
    "\n",
    "###### Python skills required to complete this project\n",
    "\n",
    "###### SQL:\n",
    "\n",
    "The data is in SQL database so students need to retrive using query language. They also need to know how to connect SQL database woth python. The library we are using for this in 'sqlite3'. SQLite3 can be integrated with Python using sqlite3 module, which was written by Gerhard Haring. It provides an SQL interface compliant with the DB-API 2.0 specification described by PEP 249. You do not need to install this module separately because it is shipped by default along with Python version 2.5.x onwards.\n",
    "\n",
    "To use sqlite3 module, you must first create a connection object that represents the database and then optionally you can create a cursor object, which will help you in executing all the SQL statements.\n",
    "\n",
    "###### Pandas:\n",
    "\n",
    "Pandas is an open-source, BSD-licensed Python library providing high-performance, easy-to-use data structures and data analysis tools for the Python programming language. Python with Pandas is used in a wide range of fields including academic and commercial domains including finance, economics, Statistics, analytics, etc.In this tutorial, we will learn the various features of Python Pandas and how to use them in practice.\n",
    "\n",
    "###### Scikit Learn\n",
    "\n",
    "Scikit-learn provides a range of supervised and unsupervised learning algorithms via a consistent interface in Python.The library is built upon the SciPy (Scientific Python) that must be installed before you can use scikit-learn. This stack that includes:\n",
    "\n",
    "- NumPy: Base n-dimensional array package\n",
    "- SciPy: Fundamental library for scientific computing\n",
    "- Matplotlib: Comprehensive 2D/3D plotting\n",
    "- IPython: Enhanced interactive console\n",
    "- Sympy: Symbolic mathematics\n",
    "- Pandas: Data structures and analysis\n",
    "\n",
    "Extensions or modules for SciPy care conventionally named SciKits. As such, the module provides learning algorithms and is named scikit-learn.\n",
    "\n",
    "The vision for the library is a level of robustness and support required for use in production systems. This means a deep focus on concerns such as easy of use, code quality, collaboration, documentation and performance.\n",
    "\n",
    "###### Machine Learning skills required to complete the project\n",
    "\n",
    "###### Supervised learning\n",
    "\n",
    "Supervised learning deals with learning a function from available training data. A supervised learning algorithm analyzes the training data and produces an inferred function, which can be used for mapping new examples.\n",
    "\n",
    "###### Regression\n",
    "\n",
    "Regression is a parametric technique used to predict continuous (dependent) variable given a set of independent variables. It is parametric in nature because it makes certain assumptions (discussed next) based on the data set. If the data set follows those assumptions, regression gives incredible results.\n",
    "\n",
    "###### Model evaluation\n",
    "\n",
    "Student must know how to judge a model on unseen data. What metric to select to judge the performance\n",
    "\n",
    "###### Import Libraries"
   ]
  },
  {
   "cell_type": "code",
   "execution_count": 3,
   "metadata": {},
   "outputs": [],
   "source": [
    "import sqlite3\n",
    "import pandas as pd\n",
    "from sklearn.tree import DecisionTreeRegressor\n",
    "from sklearn.linear_model import LinearRegression\n",
    "from sklearn.model_selection import train_test_split\n",
    "from sklearn.metrics import mean_squared_error\n",
    "from math import sqrt\n",
    "import matplotlib.pyplot as plt\n",
    "import seaborn as sns\n",
    "import statsmodels.formula.api as smf\n",
    "from IPython.display import display\n",
    "%matplotlib inline"
   ]
  },
  {
   "cell_type": "markdown",
   "metadata": {},
   "source": [
    "##### Read Data from the Database into pandas"
   ]
  },
  {
   "cell_type": "code",
   "execution_count": 5,
   "metadata": {},
   "outputs": [],
   "source": [
    "# Create your connection.\n",
    "cnx = sqlite3.connect(r'F:\\Data Science Master\\Data\\soccer\\database.sqlite')\n",
    "df = pd.read_sql_query(\"SELECT * FROM Player_Attributes\", cnx)"
   ]
  },
  {
   "cell_type": "code",
   "execution_count": 6,
   "metadata": {},
   "outputs": [
    {
     "data": {
      "text/html": [
       "<div>\n",
       "<style scoped>\n",
       "    .dataframe tbody tr th:only-of-type {\n",
       "        vertical-align: middle;\n",
       "    }\n",
       "\n",
       "    .dataframe tbody tr th {\n",
       "        vertical-align: top;\n",
       "    }\n",
       "\n",
       "    .dataframe thead th {\n",
       "        text-align: right;\n",
       "    }\n",
       "</style>\n",
       "<table border=\"1\" class=\"dataframe\">\n",
       "  <thead>\n",
       "    <tr style=\"text-align: right;\">\n",
       "      <th></th>\n",
       "      <th>id</th>\n",
       "      <th>player_fifa_api_id</th>\n",
       "      <th>player_api_id</th>\n",
       "      <th>date</th>\n",
       "      <th>overall_rating</th>\n",
       "      <th>potential</th>\n",
       "      <th>preferred_foot</th>\n",
       "      <th>attacking_work_rate</th>\n",
       "      <th>defensive_work_rate</th>\n",
       "      <th>crossing</th>\n",
       "      <th>...</th>\n",
       "      <th>vision</th>\n",
       "      <th>penalties</th>\n",
       "      <th>marking</th>\n",
       "      <th>standing_tackle</th>\n",
       "      <th>sliding_tackle</th>\n",
       "      <th>gk_diving</th>\n",
       "      <th>gk_handling</th>\n",
       "      <th>gk_kicking</th>\n",
       "      <th>gk_positioning</th>\n",
       "      <th>gk_reflexes</th>\n",
       "    </tr>\n",
       "  </thead>\n",
       "  <tbody>\n",
       "    <tr>\n",
       "      <th>0</th>\n",
       "      <td>1</td>\n",
       "      <td>218353</td>\n",
       "      <td>505942</td>\n",
       "      <td>2016-02-18 00:00:00</td>\n",
       "      <td>67.0</td>\n",
       "      <td>71.0</td>\n",
       "      <td>right</td>\n",
       "      <td>medium</td>\n",
       "      <td>medium</td>\n",
       "      <td>49.0</td>\n",
       "      <td>...</td>\n",
       "      <td>54.0</td>\n",
       "      <td>48.0</td>\n",
       "      <td>65.0</td>\n",
       "      <td>69.0</td>\n",
       "      <td>69.0</td>\n",
       "      <td>6.0</td>\n",
       "      <td>11.0</td>\n",
       "      <td>10.0</td>\n",
       "      <td>8.0</td>\n",
       "      <td>8.0</td>\n",
       "    </tr>\n",
       "    <tr>\n",
       "      <th>1</th>\n",
       "      <td>2</td>\n",
       "      <td>218353</td>\n",
       "      <td>505942</td>\n",
       "      <td>2015-11-19 00:00:00</td>\n",
       "      <td>67.0</td>\n",
       "      <td>71.0</td>\n",
       "      <td>right</td>\n",
       "      <td>medium</td>\n",
       "      <td>medium</td>\n",
       "      <td>49.0</td>\n",
       "      <td>...</td>\n",
       "      <td>54.0</td>\n",
       "      <td>48.0</td>\n",
       "      <td>65.0</td>\n",
       "      <td>69.0</td>\n",
       "      <td>69.0</td>\n",
       "      <td>6.0</td>\n",
       "      <td>11.0</td>\n",
       "      <td>10.0</td>\n",
       "      <td>8.0</td>\n",
       "      <td>8.0</td>\n",
       "    </tr>\n",
       "    <tr>\n",
       "      <th>2</th>\n",
       "      <td>3</td>\n",
       "      <td>218353</td>\n",
       "      <td>505942</td>\n",
       "      <td>2015-09-21 00:00:00</td>\n",
       "      <td>62.0</td>\n",
       "      <td>66.0</td>\n",
       "      <td>right</td>\n",
       "      <td>medium</td>\n",
       "      <td>medium</td>\n",
       "      <td>49.0</td>\n",
       "      <td>...</td>\n",
       "      <td>54.0</td>\n",
       "      <td>48.0</td>\n",
       "      <td>65.0</td>\n",
       "      <td>66.0</td>\n",
       "      <td>69.0</td>\n",
       "      <td>6.0</td>\n",
       "      <td>11.0</td>\n",
       "      <td>10.0</td>\n",
       "      <td>8.0</td>\n",
       "      <td>8.0</td>\n",
       "    </tr>\n",
       "    <tr>\n",
       "      <th>3</th>\n",
       "      <td>4</td>\n",
       "      <td>218353</td>\n",
       "      <td>505942</td>\n",
       "      <td>2015-03-20 00:00:00</td>\n",
       "      <td>61.0</td>\n",
       "      <td>65.0</td>\n",
       "      <td>right</td>\n",
       "      <td>medium</td>\n",
       "      <td>medium</td>\n",
       "      <td>48.0</td>\n",
       "      <td>...</td>\n",
       "      <td>53.0</td>\n",
       "      <td>47.0</td>\n",
       "      <td>62.0</td>\n",
       "      <td>63.0</td>\n",
       "      <td>66.0</td>\n",
       "      <td>5.0</td>\n",
       "      <td>10.0</td>\n",
       "      <td>9.0</td>\n",
       "      <td>7.0</td>\n",
       "      <td>7.0</td>\n",
       "    </tr>\n",
       "    <tr>\n",
       "      <th>4</th>\n",
       "      <td>5</td>\n",
       "      <td>218353</td>\n",
       "      <td>505942</td>\n",
       "      <td>2007-02-22 00:00:00</td>\n",
       "      <td>61.0</td>\n",
       "      <td>65.0</td>\n",
       "      <td>right</td>\n",
       "      <td>medium</td>\n",
       "      <td>medium</td>\n",
       "      <td>48.0</td>\n",
       "      <td>...</td>\n",
       "      <td>53.0</td>\n",
       "      <td>47.0</td>\n",
       "      <td>62.0</td>\n",
       "      <td>63.0</td>\n",
       "      <td>66.0</td>\n",
       "      <td>5.0</td>\n",
       "      <td>10.0</td>\n",
       "      <td>9.0</td>\n",
       "      <td>7.0</td>\n",
       "      <td>7.0</td>\n",
       "    </tr>\n",
       "  </tbody>\n",
       "</table>\n",
       "<p>5 rows × 42 columns</p>\n",
       "</div>"
      ],
      "text/plain": [
       "   id  player_fifa_api_id  player_api_id                 date  overall_rating  \\\n",
       "0   1              218353         505942  2016-02-18 00:00:00            67.0   \n",
       "1   2              218353         505942  2015-11-19 00:00:00            67.0   \n",
       "2   3              218353         505942  2015-09-21 00:00:00            62.0   \n",
       "3   4              218353         505942  2015-03-20 00:00:00            61.0   \n",
       "4   5              218353         505942  2007-02-22 00:00:00            61.0   \n",
       "\n",
       "   potential preferred_foot attacking_work_rate defensive_work_rate  crossing  \\\n",
       "0       71.0          right              medium              medium      49.0   \n",
       "1       71.0          right              medium              medium      49.0   \n",
       "2       66.0          right              medium              medium      49.0   \n",
       "3       65.0          right              medium              medium      48.0   \n",
       "4       65.0          right              medium              medium      48.0   \n",
       "\n",
       "      ...       vision  penalties  marking  standing_tackle  sliding_tackle  \\\n",
       "0     ...         54.0       48.0     65.0             69.0            69.0   \n",
       "1     ...         54.0       48.0     65.0             69.0            69.0   \n",
       "2     ...         54.0       48.0     65.0             66.0            69.0   \n",
       "3     ...         53.0       47.0     62.0             63.0            66.0   \n",
       "4     ...         53.0       47.0     62.0             63.0            66.0   \n",
       "\n",
       "   gk_diving  gk_handling  gk_kicking  gk_positioning  gk_reflexes  \n",
       "0        6.0         11.0        10.0             8.0          8.0  \n",
       "1        6.0         11.0        10.0             8.0          8.0  \n",
       "2        6.0         11.0        10.0             8.0          8.0  \n",
       "3        5.0         10.0         9.0             7.0          7.0  \n",
       "4        5.0         10.0         9.0             7.0          7.0  \n",
       "\n",
       "[5 rows x 42 columns]"
      ]
     },
     "execution_count": 6,
     "metadata": {},
     "output_type": "execute_result"
    }
   ],
   "source": [
    "df.head()"
   ]
  },
  {
   "cell_type": "code",
   "execution_count": 7,
   "metadata": {},
   "outputs": [],
   "source": [
    "df.set_index('id', inplace=True)"
   ]
  },
  {
   "cell_type": "code",
   "execution_count": 8,
   "metadata": {},
   "outputs": [
    {
     "name": "stdout",
     "output_type": "stream",
     "text": [
      "<class 'pandas.core.frame.DataFrame'>\n",
      "Int64Index: 183978 entries, 1 to 183978\n",
      "Data columns (total 41 columns):\n",
      "player_fifa_api_id     183978 non-null int64\n",
      "player_api_id          183978 non-null int64\n",
      "date                   183978 non-null object\n",
      "overall_rating         183142 non-null float64\n",
      "potential              183142 non-null float64\n",
      "preferred_foot         183142 non-null object\n",
      "attacking_work_rate    180748 non-null object\n",
      "defensive_work_rate    183142 non-null object\n",
      "crossing               183142 non-null float64\n",
      "finishing              183142 non-null float64\n",
      "heading_accuracy       183142 non-null float64\n",
      "short_passing          183142 non-null float64\n",
      "volleys                181265 non-null float64\n",
      "dribbling              183142 non-null float64\n",
      "curve                  181265 non-null float64\n",
      "free_kick_accuracy     183142 non-null float64\n",
      "long_passing           183142 non-null float64\n",
      "ball_control           183142 non-null float64\n",
      "acceleration           183142 non-null float64\n",
      "sprint_speed           183142 non-null float64\n",
      "agility                181265 non-null float64\n",
      "reactions              183142 non-null float64\n",
      "balance                181265 non-null float64\n",
      "shot_power             183142 non-null float64\n",
      "jumping                181265 non-null float64\n",
      "stamina                183142 non-null float64\n",
      "strength               183142 non-null float64\n",
      "long_shots             183142 non-null float64\n",
      "aggression             183142 non-null float64\n",
      "interceptions          183142 non-null float64\n",
      "positioning            183142 non-null float64\n",
      "vision                 181265 non-null float64\n",
      "penalties              183142 non-null float64\n",
      "marking                183142 non-null float64\n",
      "standing_tackle        183142 non-null float64\n",
      "sliding_tackle         181265 non-null float64\n",
      "gk_diving              183142 non-null float64\n",
      "gk_handling            183142 non-null float64\n",
      "gk_kicking             183142 non-null float64\n",
      "gk_positioning         183142 non-null float64\n",
      "gk_reflexes            183142 non-null float64\n",
      "dtypes: float64(35), int64(2), object(4)\n",
      "memory usage: 56.1+ MB\n"
     ]
    }
   ],
   "source": [
    "df.info()"
   ]
  },
  {
   "cell_type": "code",
   "execution_count": 9,
   "metadata": {},
   "outputs": [
    {
     "data": {
      "text/html": [
       "<div>\n",
       "<style scoped>\n",
       "    .dataframe tbody tr th:only-of-type {\n",
       "        vertical-align: middle;\n",
       "    }\n",
       "\n",
       "    .dataframe tbody tr th {\n",
       "        vertical-align: top;\n",
       "    }\n",
       "\n",
       "    .dataframe thead th {\n",
       "        text-align: right;\n",
       "    }\n",
       "</style>\n",
       "<table border=\"1\" class=\"dataframe\">\n",
       "  <thead>\n",
       "    <tr style=\"text-align: right;\">\n",
       "      <th></th>\n",
       "      <th>player_fifa_api_id</th>\n",
       "      <th>player_api_id</th>\n",
       "      <th>date</th>\n",
       "      <th>overall_rating</th>\n",
       "      <th>potential</th>\n",
       "      <th>preferred_foot</th>\n",
       "      <th>attacking_work_rate</th>\n",
       "      <th>defensive_work_rate</th>\n",
       "      <th>crossing</th>\n",
       "      <th>finishing</th>\n",
       "      <th>...</th>\n",
       "      <th>vision</th>\n",
       "      <th>penalties</th>\n",
       "      <th>marking</th>\n",
       "      <th>standing_tackle</th>\n",
       "      <th>sliding_tackle</th>\n",
       "      <th>gk_diving</th>\n",
       "      <th>gk_handling</th>\n",
       "      <th>gk_kicking</th>\n",
       "      <th>gk_positioning</th>\n",
       "      <th>gk_reflexes</th>\n",
       "    </tr>\n",
       "  </thead>\n",
       "  <tbody>\n",
       "    <tr>\n",
       "      <th>count</th>\n",
       "      <td>183978.000000</td>\n",
       "      <td>183978.000000</td>\n",
       "      <td>183978</td>\n",
       "      <td>183142.000000</td>\n",
       "      <td>183142.000000</td>\n",
       "      <td>183142</td>\n",
       "      <td>180748</td>\n",
       "      <td>183142</td>\n",
       "      <td>183142.000000</td>\n",
       "      <td>183142.000000</td>\n",
       "      <td>...</td>\n",
       "      <td>181265.000000</td>\n",
       "      <td>183142.000000</td>\n",
       "      <td>183142.000000</td>\n",
       "      <td>183142.000000</td>\n",
       "      <td>181265.000000</td>\n",
       "      <td>183142.000000</td>\n",
       "      <td>183142.000000</td>\n",
       "      <td>183142.000000</td>\n",
       "      <td>183142.000000</td>\n",
       "      <td>183142.000000</td>\n",
       "    </tr>\n",
       "    <tr>\n",
       "      <th>unique</th>\n",
       "      <td>NaN</td>\n",
       "      <td>NaN</td>\n",
       "      <td>197</td>\n",
       "      <td>NaN</td>\n",
       "      <td>NaN</td>\n",
       "      <td>2</td>\n",
       "      <td>8</td>\n",
       "      <td>19</td>\n",
       "      <td>NaN</td>\n",
       "      <td>NaN</td>\n",
       "      <td>...</td>\n",
       "      <td>NaN</td>\n",
       "      <td>NaN</td>\n",
       "      <td>NaN</td>\n",
       "      <td>NaN</td>\n",
       "      <td>NaN</td>\n",
       "      <td>NaN</td>\n",
       "      <td>NaN</td>\n",
       "      <td>NaN</td>\n",
       "      <td>NaN</td>\n",
       "      <td>NaN</td>\n",
       "    </tr>\n",
       "    <tr>\n",
       "      <th>top</th>\n",
       "      <td>NaN</td>\n",
       "      <td>NaN</td>\n",
       "      <td>2007-02-22 00:00:00</td>\n",
       "      <td>NaN</td>\n",
       "      <td>NaN</td>\n",
       "      <td>right</td>\n",
       "      <td>medium</td>\n",
       "      <td>medium</td>\n",
       "      <td>NaN</td>\n",
       "      <td>NaN</td>\n",
       "      <td>...</td>\n",
       "      <td>NaN</td>\n",
       "      <td>NaN</td>\n",
       "      <td>NaN</td>\n",
       "      <td>NaN</td>\n",
       "      <td>NaN</td>\n",
       "      <td>NaN</td>\n",
       "      <td>NaN</td>\n",
       "      <td>NaN</td>\n",
       "      <td>NaN</td>\n",
       "      <td>NaN</td>\n",
       "    </tr>\n",
       "    <tr>\n",
       "      <th>freq</th>\n",
       "      <td>NaN</td>\n",
       "      <td>NaN</td>\n",
       "      <td>11794</td>\n",
       "      <td>NaN</td>\n",
       "      <td>NaN</td>\n",
       "      <td>138409</td>\n",
       "      <td>125070</td>\n",
       "      <td>130846</td>\n",
       "      <td>NaN</td>\n",
       "      <td>NaN</td>\n",
       "      <td>...</td>\n",
       "      <td>NaN</td>\n",
       "      <td>NaN</td>\n",
       "      <td>NaN</td>\n",
       "      <td>NaN</td>\n",
       "      <td>NaN</td>\n",
       "      <td>NaN</td>\n",
       "      <td>NaN</td>\n",
       "      <td>NaN</td>\n",
       "      <td>NaN</td>\n",
       "      <td>NaN</td>\n",
       "    </tr>\n",
       "    <tr>\n",
       "      <th>mean</th>\n",
       "      <td>165671.524291</td>\n",
       "      <td>135900.617324</td>\n",
       "      <td>NaN</td>\n",
       "      <td>68.600015</td>\n",
       "      <td>73.460353</td>\n",
       "      <td>NaN</td>\n",
       "      <td>NaN</td>\n",
       "      <td>NaN</td>\n",
       "      <td>55.086883</td>\n",
       "      <td>49.921078</td>\n",
       "      <td>...</td>\n",
       "      <td>57.873550</td>\n",
       "      <td>55.003986</td>\n",
       "      <td>46.772242</td>\n",
       "      <td>50.351257</td>\n",
       "      <td>48.001462</td>\n",
       "      <td>14.704393</td>\n",
       "      <td>16.063612</td>\n",
       "      <td>20.998362</td>\n",
       "      <td>16.132154</td>\n",
       "      <td>16.441439</td>\n",
       "    </tr>\n",
       "    <tr>\n",
       "      <th>std</th>\n",
       "      <td>53851.094769</td>\n",
       "      <td>136927.840510</td>\n",
       "      <td>NaN</td>\n",
       "      <td>7.041139</td>\n",
       "      <td>6.592271</td>\n",
       "      <td>NaN</td>\n",
       "      <td>NaN</td>\n",
       "      <td>NaN</td>\n",
       "      <td>17.242135</td>\n",
       "      <td>19.038705</td>\n",
       "      <td>...</td>\n",
       "      <td>15.144086</td>\n",
       "      <td>15.546519</td>\n",
       "      <td>21.227667</td>\n",
       "      <td>21.483706</td>\n",
       "      <td>21.598778</td>\n",
       "      <td>16.865467</td>\n",
       "      <td>15.867382</td>\n",
       "      <td>21.452980</td>\n",
       "      <td>16.099175</td>\n",
       "      <td>17.198155</td>\n",
       "    </tr>\n",
       "    <tr>\n",
       "      <th>min</th>\n",
       "      <td>2.000000</td>\n",
       "      <td>2625.000000</td>\n",
       "      <td>NaN</td>\n",
       "      <td>33.000000</td>\n",
       "      <td>39.000000</td>\n",
       "      <td>NaN</td>\n",
       "      <td>NaN</td>\n",
       "      <td>NaN</td>\n",
       "      <td>1.000000</td>\n",
       "      <td>1.000000</td>\n",
       "      <td>...</td>\n",
       "      <td>1.000000</td>\n",
       "      <td>2.000000</td>\n",
       "      <td>1.000000</td>\n",
       "      <td>1.000000</td>\n",
       "      <td>2.000000</td>\n",
       "      <td>1.000000</td>\n",
       "      <td>1.000000</td>\n",
       "      <td>1.000000</td>\n",
       "      <td>1.000000</td>\n",
       "      <td>1.000000</td>\n",
       "    </tr>\n",
       "    <tr>\n",
       "      <th>25%</th>\n",
       "      <td>155798.000000</td>\n",
       "      <td>34763.000000</td>\n",
       "      <td>NaN</td>\n",
       "      <td>64.000000</td>\n",
       "      <td>69.000000</td>\n",
       "      <td>NaN</td>\n",
       "      <td>NaN</td>\n",
       "      <td>NaN</td>\n",
       "      <td>45.000000</td>\n",
       "      <td>34.000000</td>\n",
       "      <td>...</td>\n",
       "      <td>49.000000</td>\n",
       "      <td>45.000000</td>\n",
       "      <td>25.000000</td>\n",
       "      <td>29.000000</td>\n",
       "      <td>25.000000</td>\n",
       "      <td>7.000000</td>\n",
       "      <td>8.000000</td>\n",
       "      <td>8.000000</td>\n",
       "      <td>8.000000</td>\n",
       "      <td>8.000000</td>\n",
       "    </tr>\n",
       "    <tr>\n",
       "      <th>50%</th>\n",
       "      <td>183488.000000</td>\n",
       "      <td>77741.000000</td>\n",
       "      <td>NaN</td>\n",
       "      <td>69.000000</td>\n",
       "      <td>74.000000</td>\n",
       "      <td>NaN</td>\n",
       "      <td>NaN</td>\n",
       "      <td>NaN</td>\n",
       "      <td>59.000000</td>\n",
       "      <td>53.000000</td>\n",
       "      <td>...</td>\n",
       "      <td>60.000000</td>\n",
       "      <td>57.000000</td>\n",
       "      <td>50.000000</td>\n",
       "      <td>56.000000</td>\n",
       "      <td>53.000000</td>\n",
       "      <td>10.000000</td>\n",
       "      <td>11.000000</td>\n",
       "      <td>12.000000</td>\n",
       "      <td>11.000000</td>\n",
       "      <td>11.000000</td>\n",
       "    </tr>\n",
       "    <tr>\n",
       "      <th>75%</th>\n",
       "      <td>199848.000000</td>\n",
       "      <td>191080.000000</td>\n",
       "      <td>NaN</td>\n",
       "      <td>73.000000</td>\n",
       "      <td>78.000000</td>\n",
       "      <td>NaN</td>\n",
       "      <td>NaN</td>\n",
       "      <td>NaN</td>\n",
       "      <td>68.000000</td>\n",
       "      <td>65.000000</td>\n",
       "      <td>...</td>\n",
       "      <td>69.000000</td>\n",
       "      <td>67.000000</td>\n",
       "      <td>66.000000</td>\n",
       "      <td>69.000000</td>\n",
       "      <td>67.000000</td>\n",
       "      <td>13.000000</td>\n",
       "      <td>15.000000</td>\n",
       "      <td>15.000000</td>\n",
       "      <td>15.000000</td>\n",
       "      <td>15.000000</td>\n",
       "    </tr>\n",
       "    <tr>\n",
       "      <th>max</th>\n",
       "      <td>234141.000000</td>\n",
       "      <td>750584.000000</td>\n",
       "      <td>NaN</td>\n",
       "      <td>94.000000</td>\n",
       "      <td>97.000000</td>\n",
       "      <td>NaN</td>\n",
       "      <td>NaN</td>\n",
       "      <td>NaN</td>\n",
       "      <td>95.000000</td>\n",
       "      <td>97.000000</td>\n",
       "      <td>...</td>\n",
       "      <td>97.000000</td>\n",
       "      <td>96.000000</td>\n",
       "      <td>96.000000</td>\n",
       "      <td>95.000000</td>\n",
       "      <td>95.000000</td>\n",
       "      <td>94.000000</td>\n",
       "      <td>93.000000</td>\n",
       "      <td>97.000000</td>\n",
       "      <td>96.000000</td>\n",
       "      <td>96.000000</td>\n",
       "    </tr>\n",
       "  </tbody>\n",
       "</table>\n",
       "<p>11 rows × 41 columns</p>\n",
       "</div>"
      ],
      "text/plain": [
       "        player_fifa_api_id  player_api_id                 date  \\\n",
       "count        183978.000000  183978.000000               183978   \n",
       "unique                 NaN            NaN                  197   \n",
       "top                    NaN            NaN  2007-02-22 00:00:00   \n",
       "freq                   NaN            NaN                11794   \n",
       "mean         165671.524291  135900.617324                  NaN   \n",
       "std           53851.094769  136927.840510                  NaN   \n",
       "min               2.000000    2625.000000                  NaN   \n",
       "25%          155798.000000   34763.000000                  NaN   \n",
       "50%          183488.000000   77741.000000                  NaN   \n",
       "75%          199848.000000  191080.000000                  NaN   \n",
       "max          234141.000000  750584.000000                  NaN   \n",
       "\n",
       "        overall_rating      potential preferred_foot attacking_work_rate  \\\n",
       "count    183142.000000  183142.000000         183142              180748   \n",
       "unique             NaN            NaN              2                   8   \n",
       "top                NaN            NaN          right              medium   \n",
       "freq               NaN            NaN         138409              125070   \n",
       "mean         68.600015      73.460353            NaN                 NaN   \n",
       "std           7.041139       6.592271            NaN                 NaN   \n",
       "min          33.000000      39.000000            NaN                 NaN   \n",
       "25%          64.000000      69.000000            NaN                 NaN   \n",
       "50%          69.000000      74.000000            NaN                 NaN   \n",
       "75%          73.000000      78.000000            NaN                 NaN   \n",
       "max          94.000000      97.000000            NaN                 NaN   \n",
       "\n",
       "       defensive_work_rate       crossing      finishing      ...        \\\n",
       "count               183142  183142.000000  183142.000000      ...         \n",
       "unique                  19            NaN            NaN      ...         \n",
       "top                 medium            NaN            NaN      ...         \n",
       "freq                130846            NaN            NaN      ...         \n",
       "mean                   NaN      55.086883      49.921078      ...         \n",
       "std                    NaN      17.242135      19.038705      ...         \n",
       "min                    NaN       1.000000       1.000000      ...         \n",
       "25%                    NaN      45.000000      34.000000      ...         \n",
       "50%                    NaN      59.000000      53.000000      ...         \n",
       "75%                    NaN      68.000000      65.000000      ...         \n",
       "max                    NaN      95.000000      97.000000      ...         \n",
       "\n",
       "               vision      penalties        marking  standing_tackle  \\\n",
       "count   181265.000000  183142.000000  183142.000000    183142.000000   \n",
       "unique            NaN            NaN            NaN              NaN   \n",
       "top               NaN            NaN            NaN              NaN   \n",
       "freq              NaN            NaN            NaN              NaN   \n",
       "mean        57.873550      55.003986      46.772242        50.351257   \n",
       "std         15.144086      15.546519      21.227667        21.483706   \n",
       "min          1.000000       2.000000       1.000000         1.000000   \n",
       "25%         49.000000      45.000000      25.000000        29.000000   \n",
       "50%         60.000000      57.000000      50.000000        56.000000   \n",
       "75%         69.000000      67.000000      66.000000        69.000000   \n",
       "max         97.000000      96.000000      96.000000        95.000000   \n",
       "\n",
       "        sliding_tackle      gk_diving    gk_handling     gk_kicking  \\\n",
       "count    181265.000000  183142.000000  183142.000000  183142.000000   \n",
       "unique             NaN            NaN            NaN            NaN   \n",
       "top                NaN            NaN            NaN            NaN   \n",
       "freq               NaN            NaN            NaN            NaN   \n",
       "mean         48.001462      14.704393      16.063612      20.998362   \n",
       "std          21.598778      16.865467      15.867382      21.452980   \n",
       "min           2.000000       1.000000       1.000000       1.000000   \n",
       "25%          25.000000       7.000000       8.000000       8.000000   \n",
       "50%          53.000000      10.000000      11.000000      12.000000   \n",
       "75%          67.000000      13.000000      15.000000      15.000000   \n",
       "max          95.000000      94.000000      93.000000      97.000000   \n",
       "\n",
       "        gk_positioning    gk_reflexes  \n",
       "count    183142.000000  183142.000000  \n",
       "unique             NaN            NaN  \n",
       "top                NaN            NaN  \n",
       "freq               NaN            NaN  \n",
       "mean         16.132154      16.441439  \n",
       "std          16.099175      17.198155  \n",
       "min           1.000000       1.000000  \n",
       "25%           8.000000       8.000000  \n",
       "50%          11.000000      11.000000  \n",
       "75%          15.000000      15.000000  \n",
       "max          96.000000      96.000000  \n",
       "\n",
       "[11 rows x 41 columns]"
      ]
     },
     "execution_count": 9,
     "metadata": {},
     "output_type": "execute_result"
    }
   ],
   "source": [
    "df.describe(include='all')"
   ]
  },
  {
   "cell_type": "markdown",
   "metadata": {},
   "source": [
    "##### Handling Null Values"
   ]
  },
  {
   "cell_type": "code",
   "execution_count": 10,
   "metadata": {},
   "outputs": [
    {
     "data": {
      "text/plain": [
       "player_fifa_api_id        0\n",
       "player_api_id             0\n",
       "date                      0\n",
       "overall_rating          836\n",
       "potential               836\n",
       "preferred_foot          836\n",
       "attacking_work_rate    3230\n",
       "defensive_work_rate     836\n",
       "crossing                836\n",
       "finishing               836\n",
       "heading_accuracy        836\n",
       "short_passing           836\n",
       "volleys                2713\n",
       "dribbling               836\n",
       "curve                  2713\n",
       "free_kick_accuracy      836\n",
       "long_passing            836\n",
       "ball_control            836\n",
       "acceleration            836\n",
       "sprint_speed            836\n",
       "agility                2713\n",
       "reactions               836\n",
       "balance                2713\n",
       "shot_power              836\n",
       "jumping                2713\n",
       "stamina                 836\n",
       "strength                836\n",
       "long_shots              836\n",
       "aggression              836\n",
       "interceptions           836\n",
       "positioning             836\n",
       "vision                 2713\n",
       "penalties               836\n",
       "marking                 836\n",
       "standing_tackle         836\n",
       "sliding_tackle         2713\n",
       "gk_diving               836\n",
       "gk_handling             836\n",
       "gk_kicking              836\n",
       "gk_positioning          836\n",
       "gk_reflexes             836\n",
       "dtype: int64"
      ]
     },
     "execution_count": 10,
     "metadata": {},
     "output_type": "execute_result"
    }
   ],
   "source": [
    "#Finding all Null Values\n",
    "df.isnull().sum(axis=0)"
   ]
  },
  {
   "cell_type": "code",
   "execution_count": 11,
   "metadata": {},
   "outputs": [],
   "source": [
    "#Drop rows where atleast 836 records for 38 columns out of 41 columns are NaN because they have all columns as NaN except the columns named 'player_fifa_api_id', 'player_api_id' and 'date' which has no significance in predicting overall rating of a player.\n",
    "df.dropna(axis=0, how='all', thresh=38, inplace=True)"
   ]
  },
  {
   "cell_type": "code",
   "execution_count": 12,
   "metadata": {},
   "outputs": [
    {
     "data": {
      "text/plain": [
       "player_fifa_api_id       0\n",
       "player_api_id            0\n",
       "date                     0\n",
       "overall_rating           0\n",
       "potential                0\n",
       "preferred_foot           0\n",
       "attacking_work_rate    911\n",
       "defensive_work_rate      0\n",
       "crossing                 0\n",
       "finishing                0\n",
       "heading_accuracy         0\n",
       "short_passing            0\n",
       "volleys                  0\n",
       "dribbling                0\n",
       "curve                    0\n",
       "free_kick_accuracy       0\n",
       "long_passing             0\n",
       "ball_control             0\n",
       "acceleration             0\n",
       "sprint_speed             0\n",
       "agility                  0\n",
       "reactions                0\n",
       "balance                  0\n",
       "shot_power               0\n",
       "jumping                  0\n",
       "stamina                  0\n",
       "strength                 0\n",
       "long_shots               0\n",
       "aggression               0\n",
       "interceptions            0\n",
       "positioning              0\n",
       "vision                   0\n",
       "penalties                0\n",
       "marking                  0\n",
       "standing_tackle          0\n",
       "sliding_tackle           0\n",
       "gk_diving                0\n",
       "gk_handling              0\n",
       "gk_kicking               0\n",
       "gk_positioning           0\n",
       "gk_reflexes              0\n",
       "dtype: int64"
      ]
     },
     "execution_count": 12,
     "metadata": {},
     "output_type": "execute_result"
    }
   ],
   "source": [
    "df.isnull().sum()"
   ]
  },
  {
   "cell_type": "markdown",
   "metadata": {},
   "source": [
    "##### Heatmap Correlation"
   ]
  },
  {
   "cell_type": "code",
   "execution_count": 14,
   "metadata": {},
   "outputs": [
    {
     "data": {
      "text/plain": [
       "<matplotlib.axes._subplots.AxesSubplot at 0x3447a70>"
      ]
     },
     "execution_count": 14,
     "metadata": {},
     "output_type": "execute_result"
    },
    {
     "data": {
      "image/png": "[encoded data removed]",
      "text/plain": [
       "<Figure size 1440x1080 with 2 Axes>"
      ]
     },
     "metadata": {
      "needs_background": "light"
     },
     "output_type": "display_data"
    }
   ],
   "source": [
    "plt.figure(figsize=(20,15))\n",
    "sns.heatmap(df.corr())"
   ]
  },
  {
   "cell_type": "markdown",
   "metadata": {},
   "source": [
    "##### Finding all Categorical Values"
   ]
  },
  {
   "cell_type": "code",
   "execution_count": 15,
   "metadata": {},
   "outputs": [
    {
     "data": {
      "text/plain": [
       "right    136953\n",
       "left      44312\n",
       "Name: preferred_foot, dtype: int64"
      ]
     },
     "execution_count": 15,
     "metadata": {},
     "output_type": "execute_result"
    }
   ],
   "source": [
    "df.preferred_foot.value_counts()"
   ]
  },
  {
   "cell_type": "code",
   "execution_count": 16,
   "metadata": {},
   "outputs": [
    {
     "data": {
      "text/plain": [
       "medium    125070\n",
       "high       42823\n",
       "low         8569\n",
       "None        3317\n",
       "norm         317\n",
       "y             94\n",
       "stoc          86\n",
       "le            78\n",
       "Name: attacking_work_rate, dtype: int64"
      ]
     },
     "execution_count": 16,
     "metadata": {},
     "output_type": "execute_result"
    }
   ],
   "source": [
    "df.attacking_work_rate.value_counts()"
   ]
  },
  {
   "cell_type": "code",
   "execution_count": 17,
   "metadata": {},
   "outputs": [
    {
     "data": {
      "text/plain": [
       "medium    130846\n",
       "high       27041\n",
       "low        18432\n",
       "o           1328\n",
       "_0           911\n",
       "1            421\n",
       "2            334\n",
       "ormal        317\n",
       "3            243\n",
       "5            231\n",
       "7            207\n",
       "0            188\n",
       "6            179\n",
       "9            143\n",
       "4            116\n",
       "es            94\n",
       "tocky         86\n",
       "ean           78\n",
       "8             70\n",
       "Name: defensive_work_rate, dtype: int64"
      ]
     },
     "execution_count": 17,
     "metadata": {},
     "output_type": "execute_result"
    }
   ],
   "source": [
    "df.defensive_work_rate.value_counts()"
   ]
  },
  {
   "cell_type": "markdown",
   "metadata": {},
   "source": [
    "##### One Hot Encoding"
   ]
  },
  {
   "cell_type": "code",
   "execution_count": 18,
   "metadata": {},
   "outputs": [],
   "source": [
    "df_dummies_preferredfoot = pd.get_dummies(df.preferred_foot, drop_first=True, prefix='preferred')\n",
    "df_dummies_attackingworkrate = pd.get_dummies(df.attacking_work_rate, drop_first=True, prefix='attacking')\n",
    "df_dummies_defensiveworkrate = pd.get_dummies(df.defensive_work_rate, drop_first=True, prefix='defensive')\n"
   ]
  },
  {
   "cell_type": "code",
   "execution_count": 19,
   "metadata": {},
   "outputs": [],
   "source": [
    "#Joining these new variables to the \n",
    "df = df.join(df_dummies_preferredfoot)\n",
    "df = df.join(df_dummies_attackingworkrate)\n",
    "df = df.join(df_dummies_defensiveworkrate)"
   ]
  },
  {
   "cell_type": "code",
   "execution_count": 20,
   "metadata": {},
   "outputs": [],
   "source": [
    "#Dropping insignificant variables\n",
    "numerical_df = df.drop(['player_fifa_api_id', 'player_api_id', 'date', 'preferred_foot', 'attacking_work_rate', \n",
    "                        'defensive_work_rate'], axis=1)\n"
   ]
  },
  {
   "cell_type": "code",
   "execution_count": 21,
   "metadata": {},
   "outputs": [
    {
     "data": {
      "text/html": [
       "<div>\n",
       "<style scoped>\n",
       "    .dataframe tbody tr th:only-of-type {\n",
       "        vertical-align: middle;\n",
       "    }\n",
       "\n",
       "    .dataframe tbody tr th {\n",
       "        vertical-align: top;\n",
       "    }\n",
       "\n",
       "    .dataframe thead th {\n",
       "        text-align: right;\n",
       "    }\n",
       "</style>\n",
       "<table border=\"1\" class=\"dataframe\">\n",
       "  <thead>\n",
       "    <tr style=\"text-align: right;\">\n",
       "      <th></th>\n",
       "      <th>overall_rating</th>\n",
       "      <th>potential</th>\n",
       "      <th>crossing</th>\n",
       "      <th>finishing</th>\n",
       "      <th>heading_accuracy</th>\n",
       "      <th>short_passing</th>\n",
       "      <th>volleys</th>\n",
       "      <th>dribbling</th>\n",
       "      <th>curve</th>\n",
       "      <th>free_kick_accuracy</th>\n",
       "      <th>...</th>\n",
       "      <th>defensive_9</th>\n",
       "      <th>defensive__0</th>\n",
       "      <th>defensive_ean</th>\n",
       "      <th>defensive_es</th>\n",
       "      <th>defensive_high</th>\n",
       "      <th>defensive_low</th>\n",
       "      <th>defensive_medium</th>\n",
       "      <th>defensive_o</th>\n",
       "      <th>defensive_ormal</th>\n",
       "      <th>defensive_tocky</th>\n",
       "    </tr>\n",
       "    <tr>\n",
       "      <th>id</th>\n",
       "      <th></th>\n",
       "      <th></th>\n",
       "      <th></th>\n",
       "      <th></th>\n",
       "      <th></th>\n",
       "      <th></th>\n",
       "      <th></th>\n",
       "      <th></th>\n",
       "      <th></th>\n",
       "      <th></th>\n",
       "      <th></th>\n",
       "      <th></th>\n",
       "      <th></th>\n",
       "      <th></th>\n",
       "      <th></th>\n",
       "      <th></th>\n",
       "      <th></th>\n",
       "      <th></th>\n",
       "      <th></th>\n",
       "      <th></th>\n",
       "      <th></th>\n",
       "    </tr>\n",
       "  </thead>\n",
       "  <tbody>\n",
       "    <tr>\n",
       "      <th>1</th>\n",
       "      <td>67.0</td>\n",
       "      <td>71.0</td>\n",
       "      <td>49.0</td>\n",
       "      <td>44.0</td>\n",
       "      <td>71.0</td>\n",
       "      <td>61.0</td>\n",
       "      <td>44.0</td>\n",
       "      <td>51.0</td>\n",
       "      <td>45.0</td>\n",
       "      <td>39.0</td>\n",
       "      <td>...</td>\n",
       "      <td>0</td>\n",
       "      <td>0</td>\n",
       "      <td>0</td>\n",
       "      <td>0</td>\n",
       "      <td>0</td>\n",
       "      <td>0</td>\n",
       "      <td>1</td>\n",
       "      <td>0</td>\n",
       "      <td>0</td>\n",
       "      <td>0</td>\n",
       "    </tr>\n",
       "    <tr>\n",
       "      <th>2</th>\n",
       "      <td>67.0</td>\n",
       "      <td>71.0</td>\n",
       "      <td>49.0</td>\n",
       "      <td>44.0</td>\n",
       "      <td>71.0</td>\n",
       "      <td>61.0</td>\n",
       "      <td>44.0</td>\n",
       "      <td>51.0</td>\n",
       "      <td>45.0</td>\n",
       "      <td>39.0</td>\n",
       "      <td>...</td>\n",
       "      <td>0</td>\n",
       "      <td>0</td>\n",
       "      <td>0</td>\n",
       "      <td>0</td>\n",
       "      <td>0</td>\n",
       "      <td>0</td>\n",
       "      <td>1</td>\n",
       "      <td>0</td>\n",
       "      <td>0</td>\n",
       "      <td>0</td>\n",
       "    </tr>\n",
       "    <tr>\n",
       "      <th>3</th>\n",
       "      <td>62.0</td>\n",
       "      <td>66.0</td>\n",
       "      <td>49.0</td>\n",
       "      <td>44.0</td>\n",
       "      <td>71.0</td>\n",
       "      <td>61.0</td>\n",
       "      <td>44.0</td>\n",
       "      <td>51.0</td>\n",
       "      <td>45.0</td>\n",
       "      <td>39.0</td>\n",
       "      <td>...</td>\n",
       "      <td>0</td>\n",
       "      <td>0</td>\n",
       "      <td>0</td>\n",
       "      <td>0</td>\n",
       "      <td>0</td>\n",
       "      <td>0</td>\n",
       "      <td>1</td>\n",
       "      <td>0</td>\n",
       "      <td>0</td>\n",
       "      <td>0</td>\n",
       "    </tr>\n",
       "    <tr>\n",
       "      <th>4</th>\n",
       "      <td>61.0</td>\n",
       "      <td>65.0</td>\n",
       "      <td>48.0</td>\n",
       "      <td>43.0</td>\n",
       "      <td>70.0</td>\n",
       "      <td>60.0</td>\n",
       "      <td>43.0</td>\n",
       "      <td>50.0</td>\n",
       "      <td>44.0</td>\n",
       "      <td>38.0</td>\n",
       "      <td>...</td>\n",
       "      <td>0</td>\n",
       "      <td>0</td>\n",
       "      <td>0</td>\n",
       "      <td>0</td>\n",
       "      <td>0</td>\n",
       "      <td>0</td>\n",
       "      <td>1</td>\n",
       "      <td>0</td>\n",
       "      <td>0</td>\n",
       "      <td>0</td>\n",
       "    </tr>\n",
       "    <tr>\n",
       "      <th>5</th>\n",
       "      <td>61.0</td>\n",
       "      <td>65.0</td>\n",
       "      <td>48.0</td>\n",
       "      <td>43.0</td>\n",
       "      <td>70.0</td>\n",
       "      <td>60.0</td>\n",
       "      <td>43.0</td>\n",
       "      <td>50.0</td>\n",
       "      <td>44.0</td>\n",
       "      <td>38.0</td>\n",
       "      <td>...</td>\n",
       "      <td>0</td>\n",
       "      <td>0</td>\n",
       "      <td>0</td>\n",
       "      <td>0</td>\n",
       "      <td>0</td>\n",
       "      <td>0</td>\n",
       "      <td>1</td>\n",
       "      <td>0</td>\n",
       "      <td>0</td>\n",
       "      <td>0</td>\n",
       "    </tr>\n",
       "  </tbody>\n",
       "</table>\n",
       "<p>5 rows × 61 columns</p>\n",
       "</div>"
      ],
      "text/plain": [
       "    overall_rating  potential  crossing  finishing  heading_accuracy  \\\n",
       "id                                                                     \n",
       "1             67.0       71.0      49.0       44.0              71.0   \n",
       "2             67.0       71.0      49.0       44.0              71.0   \n",
       "3             62.0       66.0      49.0       44.0              71.0   \n",
       "4             61.0       65.0      48.0       43.0              70.0   \n",
       "5             61.0       65.0      48.0       43.0              70.0   \n",
       "\n",
       "    short_passing  volleys  dribbling  curve  free_kick_accuracy  \\\n",
       "id                                                                 \n",
       "1            61.0     44.0       51.0   45.0                39.0   \n",
       "2            61.0     44.0       51.0   45.0                39.0   \n",
       "3            61.0     44.0       51.0   45.0                39.0   \n",
       "4            60.0     43.0       50.0   44.0                38.0   \n",
       "5            60.0     43.0       50.0   44.0                38.0   \n",
       "\n",
       "         ...         defensive_9  defensive__0  defensive_ean  defensive_es  \\\n",
       "id       ...                                                                  \n",
       "1        ...                   0             0              0             0   \n",
       "2        ...                   0             0              0             0   \n",
       "3        ...                   0             0              0             0   \n",
       "4        ...                   0             0              0             0   \n",
       "5        ...                   0             0              0             0   \n",
       "\n",
       "    defensive_high  defensive_low  defensive_medium  defensive_o  \\\n",
       "id                                                                 \n",
       "1                0              0                 1            0   \n",
       "2                0              0                 1            0   \n",
       "3                0              0                 1            0   \n",
       "4                0              0                 1            0   \n",
       "5                0              0                 1            0   \n",
       "\n",
       "    defensive_ormal  defensive_tocky  \n",
       "id                                    \n",
       "1                 0                0  \n",
       "2                 0                0  \n",
       "3                 0                0  \n",
       "4                 0                0  \n",
       "5                 0                0  \n",
       "\n",
       "[5 rows x 61 columns]"
      ]
     },
     "execution_count": 21,
     "metadata": {},
     "output_type": "execute_result"
    }
   ],
   "source": [
    "numerical_df.head()"
   ]
  },
  {
   "cell_type": "markdown",
   "metadata": {},
   "source": [
    "##### Fitting Regression Model"
   ]
  },
  {
   "cell_type": "code",
   "execution_count": 22,
   "metadata": {},
   "outputs": [
    {
     "data": {
      "text/plain": [
       "Index(['overall_rating', 'potential', 'crossing', 'finishing',\n",
       "       'heading_accuracy', 'short_passing', 'volleys', 'dribbling', 'curve',\n",
       "       'free_kick_accuracy', 'long_passing', 'ball_control', 'acceleration',\n",
       "       'sprint_speed', 'agility', 'reactions', 'balance', 'shot_power',\n",
       "       'jumping', 'stamina', 'strength', 'long_shots', 'aggression',\n",
       "       'interceptions', 'positioning', 'vision', 'penalties', 'marking',\n",
       "       'standing_tackle', 'sliding_tackle', 'gk_diving', 'gk_handling',\n",
       "       'gk_kicking', 'gk_positioning', 'gk_reflexes', 'preferred_right',\n",
       "       'attacking_high', 'attacking_le', 'attacking_low', 'attacking_medium',\n",
       "       'attacking_norm', 'attacking_stoc', 'attacking_y', 'defensive_1',\n",
       "       'defensive_2', 'defensive_3', 'defensive_4', 'defensive_5',\n",
       "       'defensive_6', 'defensive_7', 'defensive_8', 'defensive_9',\n",
       "       'defensive__0', 'defensive_ean', 'defensive_es', 'defensive_high',\n",
       "       'defensive_low', 'defensive_medium', 'defensive_o', 'defensive_ormal',\n",
       "       'defensive_tocky'],\n",
       "      dtype='object')"
      ]
     },
     "execution_count": 22,
     "metadata": {},
     "output_type": "execute_result"
    }
   ],
   "source": [
    "numerical_df.columns"
   ]
  },
  {
   "cell_type": "markdown",
   "metadata": {},
   "source": [
    "We remove below columns based on Backward Elimination using P-values considering the two important thumbrules. \n",
    "\n",
    " 1) P values for the selected columns are less than 0.05 \n",
    " \n",
    " 2) R-squared value 0.786 and Adj. R-squared value 0.786 indicates the model is a better fit between overfitting and underfitting\n",
    " \n",
    " defensive_4, attacking_medium, defensive_tocky, attacking_stoc, defensive_5, attacking_le, defensive_ean, volleys"
   ]
  },
  {
   "cell_type": "code",
   "execution_count": 24,
   "metadata": {},
   "outputs": [
    {
     "data": {
      "text/html": [
       "<table class=\"simpletable\">\n",
       "<caption>OLS Regression Results</caption>\n",
       "<tr>\n",
       "  <th>Dep. Variable:</th>     <td>overall_rating</td>  <th>  R-squared:         </th>  <td>   0.786</td>  \n",
       "</tr>\n",
       "<tr>\n",
       "  <th>Model:</th>                   <td>OLS</td>       <th>  Adj. R-squared:    </th>  <td>   0.786</td>  \n",
       "</tr>\n",
       "<tr>\n",
       "  <th>Method:</th>             <td>Least Squares</td>  <th>  F-statistic:       </th>  <td>1.362e+04</td> \n",
       "</tr>\n",
       "<tr>\n",
       "  <th>Date:</th>             <td>Sat, 20 Jul 2019</td> <th>  Prob (F-statistic):</th>   <td>  0.00</td>   \n",
       "</tr>\n",
       "<tr>\n",
       "  <th>Time:</th>                 <td>08:20:48</td>     <th>  Log-Likelihood:    </th> <td>-4.7076e+05</td>\n",
       "</tr>\n",
       "<tr>\n",
       "  <th>No. Observations:</th>      <td>181265</td>      <th>  AIC:               </th>  <td>9.416e+05</td> \n",
       "</tr>\n",
       "<tr>\n",
       "  <th>Df Residuals:</th>          <td>181215</td>      <th>  BIC:               </th>  <td>9.421e+05</td> \n",
       "</tr>\n",
       "<tr>\n",
       "  <th>Df Model:</th>              <td>    49</td>      <th>                     </th>      <td> </td>     \n",
       "</tr>\n",
       "<tr>\n",
       "  <th>Covariance Type:</th>      <td>nonrobust</td>    <th>                     </th>      <td> </td>     \n",
       "</tr>\n",
       "</table>\n",
       "<table class=\"simpletable\">\n",
       "<tr>\n",
       "           <td></td>             <th>coef</th>     <th>std err</th>      <th>t</th>      <th>P>|t|</th>  <th>[0.025</th>    <th>0.975]</th>  \n",
       "</tr>\n",
       "<tr>\n",
       "  <th>Intercept</th>          <td>    4.7659</td> <td>    0.159</td> <td>   29.919</td> <td> 0.000</td> <td>    4.454</td> <td>    5.078</td>\n",
       "</tr>\n",
       "<tr>\n",
       "  <th>crossing</th>           <td>   -0.0100</td> <td>    0.001</td> <td>  -10.284</td> <td> 0.000</td> <td>   -0.012</td> <td>   -0.008</td>\n",
       "</tr>\n",
       "<tr>\n",
       "  <th>finishing</th>          <td>    0.0129</td> <td>    0.001</td> <td>   12.475</td> <td> 0.000</td> <td>    0.011</td> <td>    0.015</td>\n",
       "</tr>\n",
       "<tr>\n",
       "  <th>heading_accuracy</th>   <td>    0.0994</td> <td>    0.001</td> <td>  105.795</td> <td> 0.000</td> <td>    0.098</td> <td>    0.101</td>\n",
       "</tr>\n",
       "<tr>\n",
       "  <th>short_passing</th>      <td>    0.0759</td> <td>    0.002</td> <td>   47.422</td> <td> 0.000</td> <td>    0.073</td> <td>    0.079</td>\n",
       "</tr>\n",
       "<tr>\n",
       "  <th>dribbling</th>          <td>   -0.0099</td> <td>    0.001</td> <td>   -7.268</td> <td> 0.000</td> <td>   -0.013</td> <td>   -0.007</td>\n",
       "</tr>\n",
       "<tr>\n",
       "  <th>curve</th>              <td>    0.0116</td> <td>    0.001</td> <td>   12.575</td> <td> 0.000</td> <td>    0.010</td> <td>    0.013</td>\n",
       "</tr>\n",
       "<tr>\n",
       "  <th>free_kick_accuracy</th> <td>    0.0102</td> <td>    0.001</td> <td>   12.251</td> <td> 0.000</td> <td>    0.009</td> <td>    0.012</td>\n",
       "</tr>\n",
       "<tr>\n",
       "  <th>long_passing</th>       <td>    0.0168</td> <td>    0.001</td> <td>   15.421</td> <td> 0.000</td> <td>    0.015</td> <td>    0.019</td>\n",
       "</tr>\n",
       "<tr>\n",
       "  <th>ball_control</th>       <td>    0.2299</td> <td>    0.002</td> <td>  128.079</td> <td> 0.000</td> <td>    0.226</td> <td>    0.233</td>\n",
       "</tr>\n",
       "<tr>\n",
       "  <th>acceleration</th>       <td>    0.0401</td> <td>    0.002</td> <td>   25.031</td> <td> 0.000</td> <td>    0.037</td> <td>    0.043</td>\n",
       "</tr>\n",
       "<tr>\n",
       "  <th>sprint_speed</th>       <td>    0.0492</td> <td>    0.002</td> <td>   32.482</td> <td> 0.000</td> <td>    0.046</td> <td>    0.052</td>\n",
       "</tr>\n",
       "<tr>\n",
       "  <th>agility</th>            <td>   -0.0143</td> <td>    0.001</td> <td>  -12.113</td> <td> 0.000</td> <td>   -0.017</td> <td>   -0.012</td>\n",
       "</tr>\n",
       "<tr>\n",
       "  <th>reactions</th>          <td>    0.2763</td> <td>    0.001</td> <td>  226.237</td> <td> 0.000</td> <td>    0.274</td> <td>    0.279</td>\n",
       "</tr>\n",
       "<tr>\n",
       "  <th>balance</th>            <td>    0.0030</td> <td>    0.001</td> <td>    3.342</td> <td> 0.001</td> <td>    0.001</td> <td>    0.005</td>\n",
       "</tr>\n",
       "<tr>\n",
       "  <th>shot_power</th>         <td>    0.0231</td> <td>    0.001</td> <td>   22.751</td> <td> 0.000</td> <td>    0.021</td> <td>    0.025</td>\n",
       "</tr>\n",
       "<tr>\n",
       "  <th>jumping</th>            <td>    0.0124</td> <td>    0.001</td> <td>   14.569</td> <td> 0.000</td> <td>    0.011</td> <td>    0.014</td>\n",
       "</tr>\n",
       "<tr>\n",
       "  <th>stamina</th>            <td>   -0.0158</td> <td>    0.001</td> <td>  -16.489</td> <td> 0.000</td> <td>   -0.018</td> <td>   -0.014</td>\n",
       "</tr>\n",
       "<tr>\n",
       "  <th>strength</th>           <td>    0.0600</td> <td>    0.001</td> <td>   61.326</td> <td> 0.000</td> <td>    0.058</td> <td>    0.062</td>\n",
       "</tr>\n",
       "<tr>\n",
       "  <th>long_shots</th>         <td>   -0.0208</td> <td>    0.001</td> <td>  -19.695</td> <td> 0.000</td> <td>   -0.023</td> <td>   -0.019</td>\n",
       "</tr>\n",
       "<tr>\n",
       "  <th>aggression</th>         <td>    0.0102</td> <td>    0.001</td> <td>   12.778</td> <td> 0.000</td> <td>    0.009</td> <td>    0.012</td>\n",
       "</tr>\n",
       "<tr>\n",
       "  <th>interceptions</th>      <td>    0.0178</td> <td>    0.001</td> <td>   20.840</td> <td> 0.000</td> <td>    0.016</td> <td>    0.020</td>\n",
       "</tr>\n",
       "<tr>\n",
       "  <th>positioning</th>        <td>   -0.0185</td> <td>    0.001</td> <td>  -20.133</td> <td> 0.000</td> <td>   -0.020</td> <td>   -0.017</td>\n",
       "</tr>\n",
       "<tr>\n",
       "  <th>vision</th>             <td>    0.0081</td> <td>    0.001</td> <td>    8.011</td> <td> 0.000</td> <td>    0.006</td> <td>    0.010</td>\n",
       "</tr>\n",
       "<tr>\n",
       "  <th>penalties</th>          <td>    0.0153</td> <td>    0.001</td> <td>   17.526</td> <td> 0.000</td> <td>    0.014</td> <td>    0.017</td>\n",
       "</tr>\n",
       "<tr>\n",
       "  <th>marking</th>            <td>    0.0327</td> <td>    0.001</td> <td>   25.104</td> <td> 0.000</td> <td>    0.030</td> <td>    0.035</td>\n",
       "</tr>\n",
       "<tr>\n",
       "  <th>standing_tackle</th>    <td>    0.0132</td> <td>    0.002</td> <td>    8.744</td> <td> 0.000</td> <td>    0.010</td> <td>    0.016</td>\n",
       "</tr>\n",
       "<tr>\n",
       "  <th>sliding_tackle</th>     <td>   -0.0270</td> <td>    0.001</td> <td>  -21.043</td> <td> 0.000</td> <td>   -0.030</td> <td>   -0.024</td>\n",
       "</tr>\n",
       "<tr>\n",
       "  <th>gk_diving</th>          <td>    0.2072</td> <td>    0.002</td> <td>  122.424</td> <td> 0.000</td> <td>    0.204</td> <td>    0.211</td>\n",
       "</tr>\n",
       "<tr>\n",
       "  <th>gk_handling</th>        <td>    0.0572</td> <td>    0.002</td> <td>   25.615</td> <td> 0.000</td> <td>    0.053</td> <td>    0.062</td>\n",
       "</tr>\n",
       "<tr>\n",
       "  <th>gk_kicking</th>         <td>   -0.0289</td> <td>    0.001</td> <td>  -39.772</td> <td> 0.000</td> <td>   -0.030</td> <td>   -0.027</td>\n",
       "</tr>\n",
       "<tr>\n",
       "  <th>gk_positioning</th>     <td>    0.0777</td> <td>    0.002</td> <td>   34.980</td> <td> 0.000</td> <td>    0.073</td> <td>    0.082</td>\n",
       "</tr>\n",
       "<tr>\n",
       "  <th>gk_reflexes</th>        <td>    0.0467</td> <td>    0.002</td> <td>   21.431</td> <td> 0.000</td> <td>    0.042</td> <td>    0.051</td>\n",
       "</tr>\n",
       "<tr>\n",
       "  <th>attacking_high</th>     <td>    0.1354</td> <td>    0.020</td> <td>    6.819</td> <td> 0.000</td> <td>    0.096</td> <td>    0.174</td>\n",
       "</tr>\n",
       "<tr>\n",
       "  <th>attacking_low</th>      <td>    1.5998</td> <td>    0.038</td> <td>   42.118</td> <td> 0.000</td> <td>    1.525</td> <td>    1.674</td>\n",
       "</tr>\n",
       "<tr>\n",
       "  <th>attacking_norm</th>     <td>    0.4852</td> <td>    0.110</td> <td>    4.404</td> <td> 0.000</td> <td>    0.269</td> <td>    0.701</td>\n",
       "</tr>\n",
       "<tr>\n",
       "  <th>attacking_y</th>        <td>    1.5928</td> <td>    0.179</td> <td>    8.909</td> <td> 0.000</td> <td>    1.242</td> <td>    1.943</td>\n",
       "</tr>\n",
       "<tr>\n",
       "  <th>defensive_1</th>        <td>    1.9956</td> <td>    0.201</td> <td>    9.945</td> <td> 0.000</td> <td>    1.602</td> <td>    2.389</td>\n",
       "</tr>\n",
       "<tr>\n",
       "  <th>defensive_2</th>        <td>    0.7596</td> <td>    0.216</td> <td>    3.511</td> <td> 0.000</td> <td>    0.336</td> <td>    1.184</td>\n",
       "</tr>\n",
       "<tr>\n",
       "  <th>defensive_3</th>        <td>    1.2528</td> <td>    0.242</td> <td>    5.173</td> <td> 0.000</td> <td>    0.778</td> <td>    1.727</td>\n",
       "</tr>\n",
       "<tr>\n",
       "  <th>defensive_6</th>        <td>    1.5174</td> <td>    0.272</td> <td>    5.569</td> <td> 0.000</td> <td>    0.983</td> <td>    2.051</td>\n",
       "</tr>\n",
       "<tr>\n",
       "  <th>defensive_7</th>        <td>    1.9681</td> <td>    0.257</td> <td>    7.647</td> <td> 0.000</td> <td>    1.464</td> <td>    2.473</td>\n",
       "</tr>\n",
       "<tr>\n",
       "  <th>defensive_8</th>        <td>    1.8298</td> <td>    0.408</td> <td>    4.487</td> <td> 0.000</td> <td>    1.030</td> <td>    2.629</td>\n",
       "</tr>\n",
       "<tr>\n",
       "  <th>defensive_9</th>        <td>    1.1344</td> <td>    0.299</td> <td>    3.800</td> <td> 0.000</td> <td>    0.549</td> <td>    1.720</td>\n",
       "</tr>\n",
       "<tr>\n",
       "  <th>defensive__0</th>       <td>    0.6753</td> <td>    0.164</td> <td>    4.127</td> <td> 0.000</td> <td>    0.355</td> <td>    0.996</td>\n",
       "</tr>\n",
       "<tr>\n",
       "  <th>defensive_es</th>       <td>    1.5928</td> <td>    0.179</td> <td>    8.909</td> <td> 0.000</td> <td>    1.242</td> <td>    1.943</td>\n",
       "</tr>\n",
       "<tr>\n",
       "  <th>defensive_high</th>     <td>    1.5813</td> <td>    0.125</td> <td>   12.645</td> <td> 0.000</td> <td>    1.336</td> <td>    1.826</td>\n",
       "</tr>\n",
       "<tr>\n",
       "  <th>defensive_low</th>      <td>    1.9154</td> <td>    0.126</td> <td>   15.211</td> <td> 0.000</td> <td>    1.669</td> <td>    2.162</td>\n",
       "</tr>\n",
       "<tr>\n",
       "  <th>defensive_medium</th>   <td>    1.2601</td> <td>    0.123</td> <td>   10.209</td> <td> 0.000</td> <td>    1.018</td> <td>    1.502</td>\n",
       "</tr>\n",
       "<tr>\n",
       "  <th>defensive_o</th>        <td>    0.9688</td> <td>    0.152</td> <td>    6.363</td> <td> 0.000</td> <td>    0.670</td> <td>    1.267</td>\n",
       "</tr>\n",
       "<tr>\n",
       "  <th>defensive_ormal</th>    <td>    0.4852</td> <td>    0.110</td> <td>    4.404</td> <td> 0.000</td> <td>    0.269</td> <td>    0.701</td>\n",
       "</tr>\n",
       "<tr>\n",
       "  <th>preferred_right</th>    <td>   -0.0714</td> <td>    0.018</td> <td>   -3.869</td> <td> 0.000</td> <td>   -0.108</td> <td>   -0.035</td>\n",
       "</tr>\n",
       "</table>\n",
       "<table class=\"simpletable\">\n",
       "<tr>\n",
       "  <th>Omnibus:</th>       <td>4615.538</td> <th>  Durbin-Watson:     </th> <td>   0.322</td> \n",
       "</tr>\n",
       "<tr>\n",
       "  <th>Prob(Omnibus):</th>  <td> 0.000</td>  <th>  Jarque-Bera (JB):  </th> <td>10648.290</td>\n",
       "</tr>\n",
       "<tr>\n",
       "  <th>Skew:</th>           <td> 0.094</td>  <th>  Prob(JB):          </th> <td>    0.00</td> \n",
       "</tr>\n",
       "<tr>\n",
       "  <th>Kurtosis:</th>       <td> 4.172</td>  <th>  Cond. No.          </th> <td>1.01e+16</td> \n",
       "</tr>\n",
       "</table><br/><br/>Warnings:<br/>[1] Standard Errors assume that the covariance matrix of the errors is correctly specified.<br/>[2] The smallest eigenvalue is 1.73e-22. This might indicate that there are<br/>strong multicollinearity problems or that the design matrix is singular."
      ],
      "text/plain": [
       "<class 'statsmodels.iolib.summary.Summary'>\n",
       "\"\"\"\n",
       "                            OLS Regression Results                            \n",
       "==============================================================================\n",
       "Dep. Variable:         overall_rating   R-squared:                       0.786\n",
       "Model:                            OLS   Adj. R-squared:                  0.786\n",
       "Method:                 Least Squares   F-statistic:                 1.362e+04\n",
       "Date:                Sat, 20 Jul 2019   Prob (F-statistic):               0.00\n",
       "Time:                        08:20:48   Log-Likelihood:            -4.7076e+05\n",
       "No. Observations:              181265   AIC:                         9.416e+05\n",
       "Df Residuals:                  181215   BIC:                         9.421e+05\n",
       "Df Model:                          49                                         \n",
       "Covariance Type:            nonrobust                                         \n",
       "======================================================================================\n",
       "                         coef    std err          t      P>|t|      [0.025      0.975]\n",
       "--------------------------------------------------------------------------------------\n",
       "Intercept              4.7659      0.159     29.919      0.000       4.454       5.078\n",
       "crossing              -0.0100      0.001    -10.284      0.000      -0.012      -0.008\n",
       "finishing              0.0129      0.001     12.475      0.000       0.011       0.015\n",
       "heading_accuracy       0.0994      0.001    105.795      0.000       0.098       0.101\n",
       "short_passing          0.0759      0.002     47.422      0.000       0.073       0.079\n",
       "dribbling             -0.0099      0.001     -7.268      0.000      -0.013      -0.007\n",
       "curve                  0.0116      0.001     12.575      0.000       0.010       0.013\n",
       "free_kick_accuracy     0.0102      0.001     12.251      0.000       0.009       0.012\n",
       "long_passing           0.0168      0.001     15.421      0.000       0.015       0.019\n",
       "ball_control           0.2299      0.002    128.079      0.000       0.226       0.233\n",
       "acceleration           0.0401      0.002     25.031      0.000       0.037       0.043\n",
       "sprint_speed           0.0492      0.002     32.482      0.000       0.046       0.052\n",
       "agility               -0.0143      0.001    -12.113      0.000      -0.017      -0.012\n",
       "reactions              0.2763      0.001    226.237      0.000       0.274       0.279\n",
       "balance                0.0030      0.001      3.342      0.001       0.001       0.005\n",
       "shot_power             0.0231      0.001     22.751      0.000       0.021       0.025\n",
       "jumping                0.0124      0.001     14.569      0.000       0.011       0.014\n",
       "stamina               -0.0158      0.001    -16.489      0.000      -0.018      -0.014\n",
       "strength               0.0600      0.001     61.326      0.000       0.058       0.062\n",
       "long_shots            -0.0208      0.001    -19.695      0.000      -0.023      -0.019\n",
       "aggression             0.0102      0.001     12.778      0.000       0.009       0.012\n",
       "interceptions          0.0178      0.001     20.840      0.000       0.016       0.020\n",
       "positioning           -0.0185      0.001    -20.133      0.000      -0.020      -0.017\n",
       "vision                 0.0081      0.001      8.011      0.000       0.006       0.010\n",
       "penalties              0.0153      0.001     17.526      0.000       0.014       0.017\n",
       "marking                0.0327      0.001     25.104      0.000       0.030       0.035\n",
       "standing_tackle        0.0132      0.002      8.744      0.000       0.010       0.016\n",
       "sliding_tackle        -0.0270      0.001    -21.043      0.000      -0.030      -0.024\n",
       "gk_diving              0.2072      0.002    122.424      0.000       0.204       0.211\n",
       "gk_handling            0.0572      0.002     25.615      0.000       0.053       0.062\n",
       "gk_kicking            -0.0289      0.001    -39.772      0.000      -0.030      -0.027\n",
       "gk_positioning         0.0777      0.002     34.980      0.000       0.073       0.082\n",
       "gk_reflexes            0.0467      0.002     21.431      0.000       0.042       0.051\n",
       "attacking_high         0.1354      0.020      6.819      0.000       0.096       0.174\n",
       "attacking_low          1.5998      0.038     42.118      0.000       1.525       1.674\n",
       "attacking_norm         0.4852      0.110      4.404      0.000       0.269       0.701\n",
       "attacking_y            1.5928      0.179      8.909      0.000       1.242       1.943\n",
       "defensive_1            1.9956      0.201      9.945      0.000       1.602       2.389\n",
       "defensive_2            0.7596      0.216      3.511      0.000       0.336       1.184\n",
       "defensive_3            1.2528      0.242      5.173      0.000       0.778       1.727\n",
       "defensive_6            1.5174      0.272      5.569      0.000       0.983       2.051\n",
       "defensive_7            1.9681      0.257      7.647      0.000       1.464       2.473\n",
       "defensive_8            1.8298      0.408      4.487      0.000       1.030       2.629\n",
       "defensive_9            1.1344      0.299      3.800      0.000       0.549       1.720\n",
       "defensive__0           0.6753      0.164      4.127      0.000       0.355       0.996\n",
       "defensive_es           1.5928      0.179      8.909      0.000       1.242       1.943\n",
       "defensive_high         1.5813      0.125     12.645      0.000       1.336       1.826\n",
       "defensive_low          1.9154      0.126     15.211      0.000       1.669       2.162\n",
       "defensive_medium       1.2601      0.123     10.209      0.000       1.018       1.502\n",
       "defensive_o            0.9688      0.152      6.363      0.000       0.670       1.267\n",
       "defensive_ormal        0.4852      0.110      4.404      0.000       0.269       0.701\n",
       "preferred_right       -0.0714      0.018     -3.869      0.000      -0.108      -0.035\n",
       "==============================================================================\n",
       "Omnibus:                     4615.538   Durbin-Watson:                   0.322\n",
       "Prob(Omnibus):                  0.000   Jarque-Bera (JB):            10648.290\n",
       "Skew:                           0.094   Prob(JB):                         0.00\n",
       "Kurtosis:                       4.172   Cond. No.                     1.01e+16\n",
       "==============================================================================\n",
       "\n",
       "Warnings:\n",
       "[1] Standard Errors assume that the covariance matrix of the errors is correctly specified.\n",
       "[2] The smallest eigenvalue is 1.73e-22. This might indicate that there are\n",
       "strong multicollinearity problems or that the design matrix is singular.\n",
       "\"\"\""
      ]
     },
     "execution_count": 24,
     "metadata": {},
     "output_type": "execute_result"
    }
   ],
   "source": [
    "#Building Linear Model using statsmodel\n",
    "lm = smf.ols(formula='overall_rating ~ crossing + finishing + heading_accuracy + short_passing + dribbling + curve + free_kick_accuracy + long_passing + ball_control + acceleration + sprint_speed + agility + reactions + balance + shot_power + jumping + stamina + strength + long_shots + aggression + interceptions + positioning + vision + penalties + marking + standing_tackle + sliding_tackle + gk_diving + gk_handling + gk_kicking + gk_positioning + gk_reflexes + attacking_high +  attacking_low + attacking_norm +  attacking_y +  defensive_1 + defensive_2 + defensive_3 +  defensive_6 + defensive_7 + defensive_8 + defensive_9 + defensive__0 + defensive_es + defensive_high + defensive_low + defensive_medium + defensive_o + defensive_ormal +  preferred_right', data=numerical_df).fit()\n",
    "lm.summary()\n",
    "\n"
   ]
  },
  {
   "cell_type": "code",
   "execution_count": 25,
   "metadata": {},
   "outputs": [],
   "source": [
    "#Splitting the dataset into Training set and Testset\n",
    "X = numerical_df.loc[:,['crossing','finishing','heading_accuracy','short_passing','dribbling','curve','free_kick_accuracy','long_passing','ball_control','acceleration','sprint_speed','agility','reactions','balance','shot_power','jumping','stamina','strength','long_shots','aggression','interceptions','positioning','vision','penalties','marking','standing_tackle','sliding_tackle','gk_diving','gk_handling','gk_kicking','gk_positioning','gk_reflexes','attacking_high','attacking_low','attacking_norm','attacking_y','defensive_1','defensive_2','defensive_3','defensive_6','defensive_7','defensive_8','defensive_9','defensive__0','defensive_es','defensive_high','defensive_low','defensive_medium','defensive_o','defensive_ormal','preferred_right']].values\n",
    "y = numerical_df.loc[:,['overall_rating']].values\n",
    "X_train, X_test, y_train, y_test = train_test_split(X,y, test_size=0.2, random_state=0)"
   ]
  },
  {
   "cell_type": "markdown",
   "metadata": {},
   "source": [
    "##### Multiple Linear Regression Model\n"
   ]
  },
  {
   "cell_type": "code",
   "execution_count": 26,
   "metadata": {},
   "outputs": [],
   "source": [
    "#Fitting Multiple Linear Regression to the Training set using Scikit learn\n",
    "regressor = LinearRegression()\n",
    "model = regressor.fit(X_train, y_train)"
   ]
  },
  {
   "cell_type": "code",
   "execution_count": 27,
   "metadata": {},
   "outputs": [
    {
     "data": {
      "text/plain": [
       "array([[-0.01097017,  0.01294496,  0.09901524,  0.07616119, -0.01157857,\n",
       "         0.01225716,  0.01001859,  0.01685518,  0.23179594,  0.03852819,\n",
       "         0.0505791 , -0.01359534,  0.27591917,  0.00326388,  0.02276042,\n",
       "         0.01263772, -0.01595509,  0.05998826, -0.02054381,  0.01071303,\n",
       "         0.01817527, -0.01835354,  0.00778765,  0.01505753,  0.03165124,\n",
       "         0.01304402, -0.02616935,  0.20825364,  0.05610745, -0.02834946,\n",
       "         0.07729314,  0.046879  ,  0.13375479,  1.59039159,  0.60571726,\n",
       "         1.727272  ,  2.01342623,  0.97879513,  1.4512086 ,  1.69220481,\n",
       "         1.91731199,  1.92507689,  1.09294202,  0.67828779,  1.727272  ,\n",
       "         1.58457264,  1.91454931,  1.26973021,  0.97595892,  0.60571726,\n",
       "        -0.05928746]])"
      ]
     },
     "execution_count": 27,
     "metadata": {},
     "output_type": "execute_result"
    }
   ],
   "source": [
    "model.coef_"
   ]
  },
  {
   "cell_type": "code",
   "execution_count": 28,
   "metadata": {},
   "outputs": [
    {
     "data": {
      "text/plain": [
       "array([4.73106734])"
      ]
     },
     "execution_count": 28,
     "metadata": {},
     "output_type": "execute_result"
    }
   ],
   "source": [
    "model.intercept_"
   ]
  },
  {
   "cell_type": "code",
   "execution_count": 29,
   "metadata": {},
   "outputs": [
    {
     "data": {
      "text/plain": [
       "0.7871993300319079"
      ]
     },
     "execution_count": 29,
     "metadata": {},
     "output_type": "execute_result"
    }
   ],
   "source": [
    "model.score(X_train, y_train)"
   ]
  },
  {
   "cell_type": "code",
   "execution_count": 30,
   "metadata": {},
   "outputs": [
    {
     "data": {
      "text/plain": [
       "0.783573202300398"
      ]
     },
     "execution_count": 30,
     "metadata": {},
     "output_type": "execute_result"
    }
   ],
   "source": [
    "model.score(X_test, y_test)"
   ]
  },
  {
   "cell_type": "code",
   "execution_count": 31,
   "metadata": {},
   "outputs": [
    {
     "data": {
      "text/plain": [
       "<matplotlib.legend.Legend at 0x8ff0db0>"
      ]
     },
     "execution_count": 31,
     "metadata": {},
     "output_type": "execute_result"
    },
    {
     "data": {
      "image/png": "[encoded data removed]",
      "text/plain": [
       "<Figure size 432x288 with 1 Axes>"
      ]
     },
     "metadata": {
      "needs_background": "light"
     },
     "output_type": "display_data"
    }
   ],
   "source": [
    "plt.hist(y_train, label='y_train')\n",
    "plt.hist(model.predict(X_train), label='train_predict')\n",
    "plt.legend()"
   ]
  },
  {
   "cell_type": "code",
   "execution_count": 32,
   "metadata": {},
   "outputs": [],
   "source": [
    "#Model Prediction\n",
    "y_train_pred = model.predict(X_train)\n",
    "y_test_pred = model.predict(X_test)"
   ]
  },
  {
   "cell_type": "code",
   "execution_count": 33,
   "metadata": {},
   "outputs": [
    {
     "name": "stdout",
     "output_type": "stream",
     "text": [
      "RMSE Train :  3.24300500830372\n",
      "RMSE Test :  3.269894369512719\n"
     ]
    }
   ],
   "source": [
    "#Evaluating Multiple Linear Regression Model Performance\n",
    "print('RMSE Train : ', sqrt(mean_squared_error(y_train_pred, y_train)))\n",
    "print('RMSE Test : ', sqrt(mean_squared_error(y_test_pred, y_test)))"
   ]
  },
  {
   "cell_type": "markdown",
   "metadata": {},
   "source": [
    "We can see that the RMSE value is less and nearly same. Hence we can say that the model is a good fit."
   ]
  },
  {
   "cell_type": "markdown",
   "metadata": {},
   "source": [
    "##### Decision Tree Regression Model"
   ]
  },
  {
   "cell_type": "code",
   "execution_count": 37,
   "metadata": {},
   "outputs": [
    {
     "data": {
      "text/plain": [
       "DecisionTreeRegressor(criterion='mse', max_depth=None, max_features=None,\n",
       "           max_leaf_nodes=None, min_impurity_decrease=0.0,\n",
       "           min_impurity_split=None, min_samples_leaf=1,\n",
       "           min_samples_split=2, min_weight_fraction_leaf=0.0,\n",
       "           presort=False, random_state=0, splitter='best')"
      ]
     },
     "execution_count": 37,
     "metadata": {},
     "output_type": "execute_result"
    }
   ],
   "source": [
    "#Fitting Decision Tree Regression Model to the dataset\n",
    "decisionregressor = DecisionTreeRegressor(random_state=0)\n",
    "decisionregressor.fit(X_train, y_train)"
   ]
  },
  {
   "cell_type": "code",
   "execution_count": 38,
   "metadata": {},
   "outputs": [
    {
     "data": {
      "text/plain": [
       "0.965722542265359"
      ]
     },
     "execution_count": 38,
     "metadata": {},
     "output_type": "execute_result"
    }
   ],
   "source": [
    "decisionregressor.score(X_test, y_test)"
   ]
  },
  {
   "cell_type": "code",
   "execution_count": 39,
   "metadata": {},
   "outputs": [
    {
     "data": {
      "text/plain": [
       "0.9991166446674667"
      ]
     },
     "execution_count": 39,
     "metadata": {},
     "output_type": "execute_result"
    }
   ],
   "source": [
    "decisionregressor.score(X_train, y_train)"
   ]
  },
  {
   "cell_type": "code",
   "execution_count": 40,
   "metadata": {},
   "outputs": [],
   "source": [
    "#Model Prediction\n",
    "y_decision_train_pred = decisionregressor.predict(X_train)\n",
    "y_decision_test_pred = decisionregressor.predict(X_test)"
   ]
  },
  {
   "cell_type": "code",
   "execution_count": 41,
   "metadata": {},
   "outputs": [
    {
     "name": "stdout",
     "output_type": "stream",
     "text": [
      "RMSE Train 0.20894348853783676\n",
      "RMSE Test 1.3013152182568235\n"
     ]
    }
   ],
   "source": [
    "#Evaluating Decision Tree Regression Model Performance\n",
    "print('RMSE Train', sqrt(mean_squared_error(y_pred=y_decision_train_pred,y_true= y_train)))\n",
    "print('RMSE Test' , sqrt(mean_squared_error(y_decision_test_pred, y_test)))"
   ]
  },
  {
   "cell_type": "markdown",
   "metadata": {},
   "source": [
    "We can see that RMSE value for both Training and Test data is different.\n",
    "Test RMSE is more than Train RMSE which reveals the model may be an overfitting one."
   ]
  },
  {
   "cell_type": "markdown",
   "metadata": {},
   "source": [
    "##### XGBoost Model"
   ]
  },
  {
   "cell_type": "code",
   "execution_count": 43,
   "metadata": {},
   "outputs": [],
   "source": [
    "import xgboost\n",
    "xgb = xgboost.XGBRegressor(n_estimators=100, learning_rate=0.08, subsample=0.75, max_depth=7)"
   ]
  },
  {
   "cell_type": "code",
   "execution_count": 44,
   "metadata": {},
   "outputs": [
    {
     "name": "stdout",
     "output_type": "stream",
     "text": [
      "[08:27:26] WARNING: d:\\build\\xgboost\\xgboost-0.90.git\\src\\objective\\regression_obj.cu:152: reg:linear is now deprecated in favor of reg:squarederror.\n"
     ]
    },
    {
     "data": {
      "text/plain": [
       "XGBRegressor(base_score=0.5, booster='gbtree', colsample_bylevel=1,\n",
       "       colsample_bynode=1, colsample_bytree=1, gamma=0,\n",
       "       importance_type='gain', learning_rate=0.08, max_delta_step=0,\n",
       "       max_depth=7, min_child_weight=1, missing=None, n_estimators=100,\n",
       "       n_jobs=1, nthread=None, objective='reg:linear', random_state=0,\n",
       "       reg_alpha=0, reg_lambda=1, scale_pos_weight=1, seed=None,\n",
       "       silent=None, subsample=0.75, verbosity=1)"
      ]
     },
     "execution_count": 44,
     "metadata": {},
     "output_type": "execute_result"
    }
   ],
   "source": [
    "#Fitting the Xgboost method\n",
    "xgb.fit(X_train,y_train)"
   ]
  },
  {
   "cell_type": "code",
   "execution_count": 46,
   "metadata": {},
   "outputs": [],
   "source": [
    "#predicting rating of players via Xgboost\n",
    "y_xgb_test_pred = xgb.predict(X_test)\n"
   ]
  },
  {
   "cell_type": "code",
   "execution_count": 47,
   "metadata": {},
   "outputs": [
    {
     "name": "stdout",
     "output_type": "stream",
     "text": [
      "RMSE Test 1.258034870219343\n"
     ]
    }
   ],
   "source": [
    "print('RMSE Test' , sqrt(mean_squared_error(y_test, y_xgb_test_pred)))"
   ]
  },
  {
   "cell_type": "code",
   "execution_count": 48,
   "metadata": {},
   "outputs": [
    {
     "name": "stdout",
     "output_type": "stream",
     "text": [
      "0.7227345488463508\n",
      "0.9656663743160282\n",
      "0.9665208863054902\n"
     ]
    }
   ],
   "source": [
    "#calculating prediction scores of diffrent model with y_test\n",
    "from sklearn.metrics import explained_variance_score\n",
    "print(explained_variance_score(y_test_pred,y_test))\n",
    "print(explained_variance_score(y_decision_test_pred,y_test))\n",
    "print(explained_variance_score(y_xgb_test_pred,y_test))"
   ]
  },
  {
   "cell_type": "markdown",
   "metadata": {},
   "source": [
    "A group of predictors were selected to undergo data preprocessing tasks and fed into two different Machine Learning algorithms like Multiple Linear Regression and DecisionTree Regression."
   ]
  },
  {
   "cell_type": "markdown",
   "metadata": {},
   "source": [
    "**Conclusion :**\n",
    "\n",
    "Predictive analysis report indicates that XGBoost Model works better than Linear Regression Model and DecisionTree Regression Model.\n",
    "\n",
    "So, players rating is to be predicted with XGBoost Model."
   ]
  }
 ],
 "metadata": {
  "kernelspec": {
   "display_name": "Python 3",
   "language": "python",
   "name": "python3"
  },
  "language_info": {
   "codemirror_mode": {
    "name": "ipython",
    "version": 3
   },
   "file_extension": ".py",
   "mimetype": "text/x-python",
   "name": "python",
   "nbconvert_exporter": "python",
   "pygments_lexer": "ipython3",
   "version": "3.7.3"
  }
 },
 "nbformat": 4,
 "nbformat_minor": 2
}
